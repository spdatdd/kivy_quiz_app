{
 "cells": [
  {
   "cell_type": "markdown",
   "metadata": {},
   "source": [
    "read and export file json"
   ]
  },
  {
   "cell_type": "code",
   "execution_count": 1,
   "metadata": {},
   "outputs": [],
   "source": [
    "import json\n",
    "\n",
    "def doc_file(file_name):\n",
    "    \n",
    "    try:\n",
    "        with open(file_name, 'r', encoding='utf-8') as json_file:\n",
    "            # Chuyển đổi chuỗi JSON thành mảng Python\n",
    "            return json.load(json_file)\n",
    "    except FileNotFoundError:\n",
    "        print(f\"Tệp JSON '{file_name}' không tồn tại.\")\n",
    "    except json.JSONDecodeError as e:\n",
    "        print(f\"Lỗi khi đọc tệp JSON: {e}\")\n",
    "\n",
    "def xuat_file(data, fileName):\n",
    "    # Sử dụng indent để làm cho JSON đẹp hơn\n",
    "    # ensure_ascii=False để hỗ trợ UTF-8\n",
    "    json_data = json.dumps(data, indent=4, ensure_ascii=False)  \n",
    "    # Đặt tên tệp JSON và mở nó trong chế độ ghi\n",
    "    with open(fileName, \"w\", encoding=\"utf-8\") as json_file:\n",
    "        # Ghi chuỗi JSON vào tệp\n",
    "        json_file.write(json_data)"
   ]
  },
  {
   "cell_type": "code",
   "execution_count": 34,
   "metadata": {},
   "outputs": [],
   "source": [
    "from pylatexenc.latex2text import LatexNodes2Text\n",
    "normalize = LatexNodes2Text()"
   ]
  },
  {
   "cell_type": "code",
   "execution_count": 2,
   "metadata": {},
   "outputs": [
    {
     "name": "stdout",
     "output_type": "stream",
     "text": [
      "Ngày và giờ theo định dạng: 2023-11-25 04:32:15\n"
     ]
    }
   ],
   "source": [
    "from datetime import datetime\n",
    "\n",
    "now = datetime.now()\n",
    "formatted_now = now.strftime(\"%Y-%m-%d %H:%M:%S\")\n",
    "print(\"Ngày và giờ theo định dạng:\", formatted_now)\n"
   ]
  },
  {
   "cell_type": "code",
   "execution_count": null,
   "metadata": {},
   "outputs": [],
   "source": [
    "file_path = 'path/to/your/file.txt'\n",
    "\n",
    "# Mở file và đọc nội dung\n",
    "with open(file_path, 'r') as file:\n",
    "    content = file.read()\n",
    "\n",
    "# In ra nội dung\n",
    "print(content)\n"
   ]
  },
  {
   "cell_type": "code",
   "execution_count": 12,
   "metadata": {},
   "outputs": [
    {
     "name": "stdout",
     "output_type": "stream",
     "text": [
      "[{'a': [{'a': 'e', 'b': 'c'}, {'a': 'ef', 'b': 'd'}]}, {'b': [{'a': 'e', 'b': 'c'}, {'a': 'ef', 'b': 'd'}]}]\n"
     ]
    }
   ],
   "source": [
    "a = {'a': 'e', 'b': 'c'}\n",
    "c = {'a': 'ef', 'b': 'd'}\n",
    "mang = [c.copy(), a.copy()]\n",
    "x = [{'a':mang}, {'b':mang}]\n",
    "x[0]['a'].reverse()\n",
    "print(x)\n"
   ]
  },
  {
   "cell_type": "code",
   "execution_count": 5,
   "metadata": {},
   "outputs": [],
   "source": [
    "import random\n",
    "dt = random.sample(data, 50)\n",
    "xuat_file(dt, 'file_local_exam.json')"
   ]
  },
  {
   "cell_type": "code",
   "execution_count": 1,
   "metadata": {},
   "outputs": [
    {
     "data": {
      "text/plain": [
       "'kivy_app\\\\assets\\\\images\\\\image2.png'"
      ]
     },
     "execution_count": 1,
     "metadata": {},
     "output_type": "execute_result"
    }
   ],
   "source": [
    "import os\n",
    "os.path.join('kivy_app', 'assets\\images', 'image2.png')"
   ]
  },
  {
   "cell_type": "code",
   "execution_count": 3,
   "metadata": {},
   "outputs": [
    {
     "data": {
      "text/plain": [
       "'jpeg'"
      ]
     },
     "execution_count": 3,
     "metadata": {},
     "output_type": "execute_result"
    }
   ],
   "source": [
    "import os\n",
    "os.path.splitext('assets/images/image.jpeg')[1].replace('.','')"
   ]
  },
  {
   "cell_type": "code",
   "execution_count": 3,
   "metadata": {},
   "outputs": [],
   "source": [
    "for dt in data:\n",
    "    if dt['chu_de'].find('lịch sử')!=-1 or dt['chu_de'].find('Lịch sử')!=-1:\n",
    "        dt['chu_de'] = 'Lịch sử'\n",
    "    if dt['chu_de'].find('tin học')!=-1 or dt['chu_de'].find('Tin học')!=-1:\n",
    "        dt['chu_de'] = 'Tin học'\n",
    "    if dt['chu_de'].find('địa lí')!=-1 or dt['chu_de'].find('Địa lí')!=-1 or dt['chu_de'].find('Địa lý')!=-1 or dt['chu_de'].find('địa lý')!=-1:\n",
    "        dt['chu_de'] = 'Địa lí'\n",
    "    if dt['chu_de'].find('công nghệ')!=-1 or dt['chu_de'].find('Công nghệ')!=-1:\n",
    "        dt['chu_de'] = 'Công nghệ'\n",
    "    if dt['chu_de'].find('ngữ văn')!=-1 or dt['chu_de'].find('Ngữ văn')!=-1:\n",
    "        dt['chu_de'] = 'Ngữ văn'\n",
    "    if dt['chu_de'].find('quốc phòng an ninh')!=-1 or dt['chu_de'].find('Quốc phòng an ninh')!=-1:\n",
    "        dt['chu_de'] = 'Quốc phòng an ninh'\n",
    "    if dt['chu_de'].find('công dân')!=-1 or dt['chu_de'].find('Công dân')!=-1:\n",
    "        dt['chu_de'] = 'Công dân'\n",
    "    if dt['chu_de'].find('vật lí')!=-1 or dt['chu_de'].find('Vật lí')!=-1 or dt['chu_de'].find('vật lý')!=-1:\n",
    "        dt['chu_de'] = 'Vật lí'\n",
    "    if dt['chu_de'].find('tự nhiên và xã hội')!=-1 or dt['chu_de'].find('Tự nhiên và xã hội')!=-1:\n",
    "        dt['chu_de'] = 'Tự nhiên và xã hội'\n",
    "    if dt['chu_de'].find('mĩ thuật')!=-1 or dt['chu_de'].find('Mĩ thuật')!=-1:\n",
    "        dt['chu_de'] = 'Mĩ thuật'\n",
    "    if dt['chu_de'].find('kinh tế và pháp luật')!=-1 or dt['chu_de'].find('Kinh tế và pháp luật')!=-1 or dt['chu_de'].find('kinh tế pháp luật')!=-1:\n",
    "        dt['chu_de'] = 'Kinh tế pháp luật'\n",
    "    if dt['chu_de'].find('sinh học')!=-1 or dt['chu_de'].find('Sinh học')!=-1:\n",
    "        dt['chu_de'] = 'Sinh học'\n",
    "    if dt['chu_de'].find('hoạt động trải nghiệm')!=-1 or dt['chu_de'].find('Hoạt động trải nghiệm')!=-1:\n",
    "        dt['chu_de'] = 'Hoạt động trải nghiệm'\n",
    "    if dt['chu_de'].find('âm nhạc')!=-1 or dt['chu_de'].find('Âm nhạc')!=-1:\n",
    "        dt['chu_de'] = 'Âm nhạc'\n",
    "    if dt['chu_de'].find('giáo dục công dân')!=-1 or dt['chu_de'].find('Giáo dục công dân')!=-1 or dt['chu_de'].find('GDCD')!=-1:\n",
    "        dt['chu_de'] = 'Giáo dục công dân'\n",
    "    if dt['chu_de'].find('tiếng Anh')!=-1 or dt['chu_de'].find('Tiếng Anh')!=-1:\n",
    "        dt['chu_de'] = 'Tiếng Anh'\n",
    "    if dt['chu_de'].find('khoa học')!=-1 or dt['chu_de'].find('KHTN')!=-1 or dt['chu_de'].find('Khoa học')!=-1:\n",
    "        dt['chu_de'] = 'Khoa học'\n",
    "    if dt['chu_de'].find('toán')!=-1 or dt['chu_de'].find('Toán')!=-1:\n",
    "        dt['chu_de'] = 'Toán'\n",
    "    if dt['chu_de'].find('hóa học')!=-1 or dt['chu_de'].find('Hóa học')!=-1 or dt['chu_de'].find('hóa')!=-1:\n",
    "        dt['chu_de'] = 'Hóa học'\n",
    "    if dt['chu_de'].find('đạo đức')!=-1 or dt['chu_de'].find('Đạo đức')!=-1:\n",
    "        dt['chu_de'] = 'Đạo đức'\n",
    "    if dt['chu_de'].find('giải trí')!=-1 or dt['chu_de'].find('Giải trí')!=-1:\n",
    "        dt['chu_de'] = 'Giải trí'\n",
    "    if dt['chu_de'].find('Tiếng việt')!=-1 or dt['chu_de'].find('tiếng việt')!=-1:\n",
    "        dt['chu_de'] = 'Tiếng việt'"
   ]
  },
  {
   "cell_type": "code",
   "execution_count": 4,
   "metadata": {},
   "outputs": [
    {
     "name": "stdout",
     "output_type": "stream",
     "text": [
      "{'ten_bai_thi': 'Trắc nghiệm Toán 10 kết nối học kì I ', 'chu_de': 'Kinh tế pháp luật', 'danh_sach_cau_hoi': [{'cau_hoi': ' Câu 1: Viết số 392 thành tổng các trăm, chục, đơn vị 392 = ...', 'dap_an': ['A. 300 + 92', 'B. 300 + 90 + 2', 'C. 390 + 2', 'D. 3 + 9 + 2'], 'dap_an_9_xac': ['B. 300 + 90 + 2']}, {'cau_hoi': ' Câu 2: Câu nào đúng?', 'dap_an': ['A. 100 = 100 + 10 + 0', 'B. 150 = 150 + 50', 'C. 220 = 200 + 20', 'D. 290 = 29 + 90'], 'dap_an_9_xac': ['C. 220 = 200 + 20']}, {'cau_hoi': ' Câu 3: Tính 318 + 29 = ...', 'dap_an': ['A. 547', 'B. 516', 'C. 480', 'D. 270'], 'dap_an_9_xac': ['A. 547']}, {'cau_hoi': ' Câu 4: Tính 927 - 29 = ...', 'dap_an': ['A.\\xa0', 'B. 120', 'C. 12', 'D. 100'], 'dap_an_9_xac': ['A.\\xa0']}, {'cau_hoi': ' Câu 5: Diện tích hình chữ nhật có chiều rộng bằng 5 cm, chiều dài gấp đôi chiều rộng là ... xăng-ti-mét vuông.', 'dap_an': ['A. 5', 'B. 250', 'C. 50', 'D. 500'], 'dap_an_9_xac': ['C. 50']}, {'cau_hoi': ' Câu 6: Chu vi hình chữ nhật có chiều rộng bằng 4 m, chiều dài bằng 5 m là ... đề-xi-mét', 'dap_an': ['A. 180', 'B. 200', 'C. 18', 'D. 20'], 'dap_an_9_xac': ['A. 180']}, {'cau_hoi': ' Câu 7: Làm tròn số 7 392 đến hàng chục, ta được:', 'dap_an': ['A. 7 000', 'B. 7 200', 'C. 8 500', 'D. 7 400'], 'dap_an_9_xac': ['D. 7 400']}, {'cau_hoi': ' Câu 8: Làm tròn số 3 283 đến hàng trăm, ta được:', 'dap_an': ['A. 3 000', 'B. 3 300', 'C. 4 000', 'D. 4 500'], 'dap_an_9_xac': ['B. 3 300']}, {'cau_hoi': ' Câu 9: Dạng số đếm của phép cộng số La Mã sau là: V + XI = XVI', 'dap_an': ['A. 5 + 9 = 14', 'B. 5 + 11 = 16', 'C. 2 + 3 = 5', 'D. 11 + 5 = 16'], 'dap_an_9_xac': ['B. 5 + 11 = 16']}, {'cau_hoi': ' Câu 10: So sánh hai số sau: 5 298 ... 5 398', 'dap_an': ['A. >', 'B. =', 'C. <'], 'dap_an_9_xac': ['C. <']}, {'cau_hoi': ' Câu 11: Tính 2 836 + 4 287 = ...', 'dap_an': ['A. 7 123', 'B. 7 023', 'C. 7 223', 'D. 7 133'], 'dap_an_9_xac': ['A. 7 123']}, {'cau_hoi': ' Câu 12: Tính 7 310 - 3 261 = ...', 'dap_an': ['A. 4 449', 'B. 4 049', 'C. 4 059', 'D. 4 149'], 'dap_an_9_xac': ['B. 4 049']}, {'cau_hoi': ' Câu 13: Điền số thích hợp vào chỗ chấm: 2 182 x 7 = ...', 'dap_an': ['A. 14 274', 'B. 15 274', 'C. 16 274', 'D. 13 274'], 'dap_an_9_xac': ['B. 15 274']}, {'cau_hoi': ' Câu 14: Điền số thích hợp vào chỗ chấm: 19 716 : ... = 6', 'dap_an': ['A. 3 285', 'B. 3 296', 'C. 3 086', 'D. 3 286'], 'dap_an_9_xac': ['D. 3 286']}, {'cau_hoi': ' Câu 15: So sánh hai số sau: 36 926 ... 36 826', 'dap_an': ['A. >', 'B. <', 'C. ='], 'dap_an_9_xac': ['A. >']}, {'cau_hoi': ' Câu 16: Đáp án sau đúng hay sai? 23 938 < 24 938', 'dap_an': ['A. Đúng', 'B. Sai'], 'dap_an_9_xac': ['A. Đúng']}, {'cau_hoi': ' Câu 17: Đọc số 48 293:', 'dap_an': ['A. Bốn tám nghìn hai chín ba', 'B. Bốn mươi tám nghìn hai trăm chín mươi ba', 'C. Bốn mươi tám nghìn hai trăm chín chục và ba', 'D. Bốn tám hai chín ba'], 'dap_an_9_xac': ['B. Bốn mươi tám nghìn hai trăm chín mươi ba']}, {'cau_hoi': ' Câu 18: Đọc số 83 200:', 'dap_an': ['A. Tám ba hai', 'B. Tám ba hai trăm', 'C. Tám mươi ba nghìn hai trăm', 'D. Tám ba nghìn và hai trăm'], 'dap_an_9_xac': ['C. Tám mươi ba nghìn hai trăm']}, {'cau_hoi': ' Câu 19: Làm tròn số 12 302 đến hàng nghìn', 'dap_an': ['A. 13 000', 'B. 12 300', 'C. 14 000', 'D. 12 000'], 'dap_an_9_xac': ['D. 12 000']}, {'cau_hoi': ' Câu 20: Làm tròn số 36 923 đến hàng chục nghìn', 'dap_an': ['A. 40 000', 'B. 30 000', 'C. 37 000', 'D. 35 000'], 'dap_an_9_xac': ['A. 40 000']}, {'cau_hoi': ' Câu 21: Tính 94 000 + 23 = ...', 'dap_an': ['A. 94 023', 'B. 95 023', 'C. 94 123', 'D. 95 123'], 'dap_an_9_xac': ['A. 94 023']}, {'cau_hoi': ' Câu 22: Tính 100 000 - 30 000 = ...', 'dap_an': ['A. 30 000', 'B. 40 000', 'C. 70 000', 'D. 80 000'], 'dap_an_9_xac': []}, {'cau_hoi': ' Câu 23: Điền số thích hợp vào chỗ chấm: 12 000 : 3 = ...', 'dap_an': ['A. 2 000', 'B. 4 000', 'C. 6 000', 'D. 8 000'], 'dap_an_9_xac': ['B. 4 000']}, {'cau_hoi': ' Câu 24: Điền số thích hợp vào chỗ chấm: 12 927 x 2 = ...', 'dap_an': ['A. 25 954', 'B. 26 854', 'C. 26 954', 'D. 25 854'], 'dap_an_9_xac': ['D. 25 854']}, {'cau_hoi': ' Câu 25: Điền số thích hợp vào chỗ chấm: 20 000 x 5 = ...', 'dap_an': ['A. 70 000', 'B. 80 000', 'C. 90 000', 'D. 100 000'], 'dap_an_9_xac': ['D. 100 000']}], 'path_media': ''}\n"
     ]
    }
   ],
   "source": [
    "print(data[0])"
   ]
  },
  {
   "cell_type": "code",
   "execution_count": 16,
   "metadata": {},
   "outputs": [],
   "source": [
    "tup = []\n",
    "for dt in data:\n",
    "    if dt['chu_de'] not in tup:\n",
    "        tup.append(dt['chu_de'])"
   ]
  },
  {
   "cell_type": "code",
   "execution_count": 17,
   "metadata": {},
   "outputs": [
    {
     "data": {
      "text/plain": [
       "['Kinh tế pháp luật',\n",
       " 'Ngữ văn',\n",
       " 'Vật lí',\n",
       " 'Hóa học',\n",
       " 'Sinh học',\n",
       " 'Lịch sử',\n",
       " 'Địa lí',\n",
       " 'Tin học',\n",
       " 'Công nghệ',\n",
       " 'Quốc phòng an ninh',\n",
       " 'Hoạt động trải nghiệm',\n",
       " 'Toán',\n",
       " 'Tiếng Anh',\n",
       " 'Giáo dục công dân',\n",
       " 'Tiếng việt',\n",
       " 'Tự nhiên và xã hội',\n",
       " 'Đạo đức',\n",
       " 'Khoa học',\n",
       " 'Công dân',\n",
       " 'Mĩ thuật',\n",
       " 'Âm nhạc']"
      ]
     },
     "execution_count": 17,
     "metadata": {},
     "output_type": "execute_result"
    }
   ],
   "source": [
    "tup"
   ]
  },
  {
   "cell_type": "code",
   "execution_count": 46,
   "metadata": {},
   "outputs": [],
   "source": [
    "xuat_file(data, 'chuan_hoa.json')"
   ]
  }
 ],
 "metadata": {
  "kernelspec": {
   "display_name": "kivy_venv",
   "language": "python",
   "name": "python3"
  },
  "language_info": {
   "codemirror_mode": {
    "name": "ipython",
    "version": 3
   },
   "file_extension": ".py",
   "mimetype": "text/x-python",
   "name": "python",
   "nbconvert_exporter": "python",
   "pygments_lexer": "ipython3",
   "version": "3.8.0"
  }
 },
 "nbformat": 4,
 "nbformat_minor": 2
}
